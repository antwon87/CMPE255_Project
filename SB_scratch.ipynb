{
 "cells": [
  {
   "cell_type": "code",
   "execution_count": 24,
   "metadata": {},
   "outputs": [],
   "source": [
    "import pandas as pd\n",
    "import numpy as np\n",
    "import matplotlib.pyplot as plt\n",
    "from datetime import date"
   ]
  },
  {
   "cell_type": "markdown",
   "metadata": {},
   "source": [
    "### Read in Data Set"
   ]
  },
  {
   "cell_type": "code",
   "execution_count": 2,
   "metadata": {},
   "outputs": [],
   "source": [
    "raw_data = pd.read_csv('household_power_consumption.txt', sep=';', na_values='?', index_col=0,\n",
    "                       parse_dates=[[0,1]], infer_datetime_format=True, dayfirst=True)"
   ]
  },
  {
   "cell_type": "code",
   "execution_count": 3,
   "metadata": {},
   "outputs": [
    {
     "data": {
      "text/html": [
       "<div>\n",
       "<style scoped>\n",
       "    .dataframe tbody tr th:only-of-type {\n",
       "        vertical-align: middle;\n",
       "    }\n",
       "\n",
       "    .dataframe tbody tr th {\n",
       "        vertical-align: top;\n",
       "    }\n",
       "\n",
       "    .dataframe thead th {\n",
       "        text-align: right;\n",
       "    }\n",
       "</style>\n",
       "<table border=\"1\" class=\"dataframe\">\n",
       "  <thead>\n",
       "    <tr style=\"text-align: right;\">\n",
       "      <th></th>\n",
       "      <th>Global_active_power</th>\n",
       "      <th>Global_reactive_power</th>\n",
       "      <th>Voltage</th>\n",
       "      <th>Global_intensity</th>\n",
       "      <th>Sub_metering_1</th>\n",
       "      <th>Sub_metering_2</th>\n",
       "      <th>Sub_metering_3</th>\n",
       "    </tr>\n",
       "    <tr>\n",
       "      <th>Date_Time</th>\n",
       "      <th></th>\n",
       "      <th></th>\n",
       "      <th></th>\n",
       "      <th></th>\n",
       "      <th></th>\n",
       "      <th></th>\n",
       "      <th></th>\n",
       "    </tr>\n",
       "  </thead>\n",
       "  <tbody>\n",
       "    <tr>\n",
       "      <th>2006-12-16 17:24:00</th>\n",
       "      <td>4.216</td>\n",
       "      <td>0.418</td>\n",
       "      <td>234.84</td>\n",
       "      <td>18.4</td>\n",
       "      <td>0.0</td>\n",
       "      <td>1.0</td>\n",
       "      <td>17.0</td>\n",
       "    </tr>\n",
       "    <tr>\n",
       "      <th>2006-12-16 17:25:00</th>\n",
       "      <td>5.360</td>\n",
       "      <td>0.436</td>\n",
       "      <td>233.63</td>\n",
       "      <td>23.0</td>\n",
       "      <td>0.0</td>\n",
       "      <td>1.0</td>\n",
       "      <td>16.0</td>\n",
       "    </tr>\n",
       "    <tr>\n",
       "      <th>2006-12-16 17:26:00</th>\n",
       "      <td>5.374</td>\n",
       "      <td>0.498</td>\n",
       "      <td>233.29</td>\n",
       "      <td>23.0</td>\n",
       "      <td>0.0</td>\n",
       "      <td>2.0</td>\n",
       "      <td>17.0</td>\n",
       "    </tr>\n",
       "    <tr>\n",
       "      <th>2006-12-16 17:27:00</th>\n",
       "      <td>5.388</td>\n",
       "      <td>0.502</td>\n",
       "      <td>233.74</td>\n",
       "      <td>23.0</td>\n",
       "      <td>0.0</td>\n",
       "      <td>1.0</td>\n",
       "      <td>17.0</td>\n",
       "    </tr>\n",
       "    <tr>\n",
       "      <th>2006-12-16 17:28:00</th>\n",
       "      <td>3.666</td>\n",
       "      <td>0.528</td>\n",
       "      <td>235.68</td>\n",
       "      <td>15.8</td>\n",
       "      <td>0.0</td>\n",
       "      <td>1.0</td>\n",
       "      <td>17.0</td>\n",
       "    </tr>\n",
       "  </tbody>\n",
       "</table>\n",
       "</div>"
      ],
      "text/plain": [
       "                     Global_active_power  Global_reactive_power  Voltage  \\\n",
       "Date_Time                                                                  \n",
       "2006-12-16 17:24:00                4.216                  0.418   234.84   \n",
       "2006-12-16 17:25:00                5.360                  0.436   233.63   \n",
       "2006-12-16 17:26:00                5.374                  0.498   233.29   \n",
       "2006-12-16 17:27:00                5.388                  0.502   233.74   \n",
       "2006-12-16 17:28:00                3.666                  0.528   235.68   \n",
       "\n",
       "                     Global_intensity  Sub_metering_1  Sub_metering_2  \\\n",
       "Date_Time                                                               \n",
       "2006-12-16 17:24:00              18.4             0.0             1.0   \n",
       "2006-12-16 17:25:00              23.0             0.0             1.0   \n",
       "2006-12-16 17:26:00              23.0             0.0             2.0   \n",
       "2006-12-16 17:27:00              23.0             0.0             1.0   \n",
       "2006-12-16 17:28:00              15.8             0.0             1.0   \n",
       "\n",
       "                     Sub_metering_3  \n",
       "Date_Time                            \n",
       "2006-12-16 17:24:00            17.0  \n",
       "2006-12-16 17:25:00            16.0  \n",
       "2006-12-16 17:26:00            17.0  \n",
       "2006-12-16 17:27:00            17.0  \n",
       "2006-12-16 17:28:00            17.0  "
      ]
     },
     "execution_count": 3,
     "metadata": {},
     "output_type": "execute_result"
    }
   ],
   "source": [
    "raw_data.head()"
   ]
  },
  {
   "cell_type": "code",
   "execution_count": 4,
   "metadata": {},
   "outputs": [
    {
     "name": "stdout",
     "output_type": "stream",
     "text": [
      "Column 0 has 25979 bad values.\n",
      "Column 1 has 25979 bad values.\n",
      "Column 2 has 25979 bad values.\n",
      "Column 3 has 25979 bad values.\n",
      "Column 4 has 25979 bad values.\n",
      "Column 5 has 25979 bad values.\n",
      "Column 6 has 25979 bad values.\n"
     ]
    }
   ],
   "source": [
    "for i in range(raw_data.shape[1]):\n",
    "    bad_cnt = raw_data.iloc[:, i].isnull().sum()\n",
    "    print('Column %d has %d bad values.' % (i, bad_cnt))"
   ]
  },
  {
   "cell_type": "code",
   "execution_count": 5,
   "metadata": {},
   "outputs": [],
   "source": [
    "def FillAverageCurve(raw_data, full_row_outage=True, method='curve'):\n",
    "\n",
    "    filled_data = raw_data.copy()\n",
    "    if (full_row_outage):\n",
    "        max_range = 1\n",
    "    else:\n",
    "        max_range = filled_data.shape[1]\n",
    "    \n",
    "    for col in range(max_range):\n",
    "        last_row = -2\n",
    "\n",
    "        null_series = filled_data.iloc[:, col].isnull()\n",
    "        null_indices = np.where(null_series.values == True)[0].tolist()\n",
    "        skip_cnt = 0\n",
    "        for i in range(len(null_indices)):\n",
    "            row = null_indices[i]\n",
    "\n",
    "            if (last_row == row - 1):\n",
    "                new_val = (last_good + next_good) / 2\n",
    "                filled_data.iloc[row] = new_val\n",
    "                if (method == 'curve'):\n",
    "                    last_good = new_val\n",
    "                continue\n",
    "\n",
    "            if (i == len(null_indices) - 1):\n",
    "                # This is the last null value in the column. The next row is good.\n",
    "                filled_data.iloc[row] = (filled_data.iloc[row - 1] + filled_data.iloc[row + 1]) / 2\n",
    "            else:\n",
    "                good_idx = 0\n",
    "                for k in range(i, len(null_indices)):\n",
    "                    if (null_indices[k] != null_indices[k + 1] - 1):\n",
    "                        good_idx = k\n",
    "                        break\n",
    "                    elif (k == len(null_indices) - 1):\n",
    "                        good_idx = k\n",
    "                next_good = filled_data.iloc[null_indices[good_idx] + 1]\n",
    "                last_good = filled_data.iloc[row - 1]\n",
    "                new_val = (last_good + next_good) / 2\n",
    "                filled_data.iloc[row] = new_val\n",
    "                if (method == 'curve'):\n",
    "                    last_good = new_val\n",
    "                last_row = row\n",
    "\n",
    "        print('Column %d cleaned' % col)\n",
    "    return filled_data"
   ]
  },
  {
   "cell_type": "code",
   "execution_count": 6,
   "metadata": {},
   "outputs": [
    {
     "name": "stdout",
     "output_type": "stream",
     "text": [
      "Column 0 cleaned\n"
     ]
    }
   ],
   "source": [
    "filled_data = FillAverageCurve(raw_data)#, method='flat')"
   ]
  },
  {
   "cell_type": "code",
   "execution_count": 11,
   "metadata": {},
   "outputs": [],
   "source": [
    "# Add apparent power column\n",
    "filled_data['Sub_metering_remainder'] = (filled_data['Global_active_power'] * 1000 / 60 - \n",
    "                                         filled_data['Sub_metering_1'] - filled_data['Sub_metering_2'] - \n",
    "                                         filled_data['Sub_metering_3'])\n",
    "\n",
    "filled_data['Global_apparent_power'] = np.sqrt(filled_data['Global_active_power']**2 +\n",
    "                                              filled_data['Global_reactive_power']**2)"
   ]
  },
  {
   "cell_type": "markdown",
   "metadata": {},
   "source": [
    "### Load Temperature Data and Merge"
   ]
  },
  {
   "cell_type": "code",
   "execution_count": 48,
   "metadata": {},
   "outputs": [],
   "source": [
    "temp_2006 = pd.read_csv('temp_2006.csv', sep=',') \n",
    "temp_2007 = pd.read_csv('temp_2007.csv', sep=',') \n",
    "temp_2008 = pd.read_csv('temp_2008.csv', sep=',') \n",
    "temp_2009 = pd.read_csv('temp_2009.csv', sep=',') \n",
    "temp_2010 = pd.read_csv('temp_2010.csv', sep=',') \n",
    "temp_data = pd.concat([temp_2006, temp_2007, temp_2008, temp_2009, temp_2010])\n",
    "temp_datetime_data = pd.to_datetime( temp_data[['year','month','day']])\n",
    "temps = pd.concat([temp_datetime_data, temp_data['temp']], axis=1)\n",
    "temps.columns = ['Date_Time','temp']"
   ]
  },
  {
   "cell_type": "code",
   "execution_count": 49,
   "metadata": {},
   "outputs": [
    {
     "data": {
      "text/html": [
       "<div>\n",
       "<style scoped>\n",
       "    .dataframe tbody tr th:only-of-type {\n",
       "        vertical-align: middle;\n",
       "    }\n",
       "\n",
       "    .dataframe tbody tr th {\n",
       "        vertical-align: top;\n",
       "    }\n",
       "\n",
       "    .dataframe thead th {\n",
       "        text-align: right;\n",
       "    }\n",
       "</style>\n",
       "<table border=\"1\" class=\"dataframe\">\n",
       "  <thead>\n",
       "    <tr style=\"text-align: right;\">\n",
       "      <th></th>\n",
       "      <th>Date_Time</th>\n",
       "      <th>temp</th>\n",
       "    </tr>\n",
       "  </thead>\n",
       "  <tbody>\n",
       "    <tr>\n",
       "      <th>0</th>\n",
       "      <td>2006-01-01</td>\n",
       "      <td>40.3</td>\n",
       "    </tr>\n",
       "    <tr>\n",
       "      <th>1</th>\n",
       "      <td>2006-01-02</td>\n",
       "      <td>39.1</td>\n",
       "    </tr>\n",
       "    <tr>\n",
       "      <th>2</th>\n",
       "      <td>2006-01-03</td>\n",
       "      <td>39.5</td>\n",
       "    </tr>\n",
       "    <tr>\n",
       "      <th>3</th>\n",
       "      <td>2006-01-04</td>\n",
       "      <td>36.0</td>\n",
       "    </tr>\n",
       "    <tr>\n",
       "      <th>4</th>\n",
       "      <td>2006-01-05</td>\n",
       "      <td>32.2</td>\n",
       "    </tr>\n",
       "  </tbody>\n",
       "</table>\n",
       "</div>"
      ],
      "text/plain": [
       "   Date_Time  temp\n",
       "0 2006-01-01  40.3\n",
       "1 2006-01-02  39.1\n",
       "2 2006-01-03  39.5\n",
       "3 2006-01-04  36.0\n",
       "4 2006-01-05  32.2"
      ]
     },
     "execution_count": 49,
     "metadata": {},
     "output_type": "execute_result"
    }
   ],
   "source": [
    "temps.head()"
   ]
  },
  {
   "cell_type": "code",
   "execution_count": 55,
   "metadata": {},
   "outputs": [
    {
     "name": "stdout",
     "output_type": "stream",
     "text": [
      "(1442, 9)\n"
     ]
    },
    {
     "data": {
      "text/html": [
       "<div>\n",
       "<style scoped>\n",
       "    .dataframe tbody tr th:only-of-type {\n",
       "        vertical-align: middle;\n",
       "    }\n",
       "\n",
       "    .dataframe tbody tr th {\n",
       "        vertical-align: top;\n",
       "    }\n",
       "\n",
       "    .dataframe thead th {\n",
       "        text-align: right;\n",
       "    }\n",
       "</style>\n",
       "<table border=\"1\" class=\"dataframe\">\n",
       "  <thead>\n",
       "    <tr style=\"text-align: right;\">\n",
       "      <th></th>\n",
       "      <th>Global_active_power</th>\n",
       "      <th>Global_reactive_power</th>\n",
       "      <th>Voltage</th>\n",
       "      <th>Global_intensity</th>\n",
       "      <th>Sub_metering_1</th>\n",
       "      <th>Sub_metering_2</th>\n",
       "      <th>Sub_metering_3</th>\n",
       "      <th>Global_apparent_power</th>\n",
       "      <th>Sub_metering_remainder</th>\n",
       "    </tr>\n",
       "    <tr>\n",
       "      <th>Date_Time</th>\n",
       "      <th></th>\n",
       "      <th></th>\n",
       "      <th></th>\n",
       "      <th></th>\n",
       "      <th></th>\n",
       "      <th></th>\n",
       "      <th></th>\n",
       "      <th></th>\n",
       "      <th></th>\n",
       "    </tr>\n",
       "  </thead>\n",
       "  <tbody>\n",
       "    <tr>\n",
       "      <th>2006-12-16</th>\n",
       "      <td>3.053475</td>\n",
       "      <td>0.088187</td>\n",
       "      <td>236.243763</td>\n",
       "      <td>13.082828</td>\n",
       "      <td>0.0</td>\n",
       "      <td>546.0</td>\n",
       "      <td>4926.0</td>\n",
       "      <td>3.056187</td>\n",
       "      <td>14680.933333</td>\n",
       "    </tr>\n",
       "    <tr>\n",
       "      <th>2006-12-17</th>\n",
       "      <td>2.354486</td>\n",
       "      <td>0.156949</td>\n",
       "      <td>240.087028</td>\n",
       "      <td>9.999028</td>\n",
       "      <td>2033.0</td>\n",
       "      <td>4187.0</td>\n",
       "      <td>13341.0</td>\n",
       "      <td>2.365602</td>\n",
       "      <td>36946.666667</td>\n",
       "    </tr>\n",
       "    <tr>\n",
       "      <th>2006-12-18</th>\n",
       "      <td>1.530435</td>\n",
       "      <td>0.112356</td>\n",
       "      <td>241.231694</td>\n",
       "      <td>6.421667</td>\n",
       "      <td>1063.0</td>\n",
       "      <td>2621.0</td>\n",
       "      <td>14018.0</td>\n",
       "      <td>1.543069</td>\n",
       "      <td>19028.433333</td>\n",
       "    </tr>\n",
       "    <tr>\n",
       "      <th>2006-12-19</th>\n",
       "      <td>1.157079</td>\n",
       "      <td>0.104821</td>\n",
       "      <td>241.999313</td>\n",
       "      <td>4.926389</td>\n",
       "      <td>839.0</td>\n",
       "      <td>7602.0</td>\n",
       "      <td>6197.0</td>\n",
       "      <td>1.170682</td>\n",
       "      <td>13131.900000</td>\n",
       "    </tr>\n",
       "    <tr>\n",
       "      <th>2006-12-20</th>\n",
       "      <td>1.545658</td>\n",
       "      <td>0.111804</td>\n",
       "      <td>242.308063</td>\n",
       "      <td>6.467361</td>\n",
       "      <td>0.0</td>\n",
       "      <td>2648.0</td>\n",
       "      <td>14063.0</td>\n",
       "      <td>1.556785</td>\n",
       "      <td>20384.800000</td>\n",
       "    </tr>\n",
       "  </tbody>\n",
       "</table>\n",
       "</div>"
      ],
      "text/plain": [
       "            Global_active_power  Global_reactive_power     Voltage  \\\n",
       "Date_Time                                                            \n",
       "2006-12-16             3.053475               0.088187  236.243763   \n",
       "2006-12-17             2.354486               0.156949  240.087028   \n",
       "2006-12-18             1.530435               0.112356  241.231694   \n",
       "2006-12-19             1.157079               0.104821  241.999313   \n",
       "2006-12-20             1.545658               0.111804  242.308063   \n",
       "\n",
       "            Global_intensity  Sub_metering_1  Sub_metering_2  Sub_metering_3  \\\n",
       "Date_Time                                                                      \n",
       "2006-12-16         13.082828             0.0           546.0          4926.0   \n",
       "2006-12-17          9.999028          2033.0          4187.0         13341.0   \n",
       "2006-12-18          6.421667          1063.0          2621.0         14018.0   \n",
       "2006-12-19          4.926389           839.0          7602.0          6197.0   \n",
       "2006-12-20          6.467361             0.0          2648.0         14063.0   \n",
       "\n",
       "            Global_apparent_power  Sub_metering_remainder  \n",
       "Date_Time                                                  \n",
       "2006-12-16               3.056187            14680.933333  \n",
       "2006-12-17               2.365602            36946.666667  \n",
       "2006-12-18               1.543069            19028.433333  \n",
       "2006-12-19               1.170682            13131.900000  \n",
       "2006-12-20               1.556785            20384.800000  "
      ]
     },
     "execution_count": 55,
     "metadata": {},
     "output_type": "execute_result"
    }
   ],
   "source": [
    "\n",
    "daily_data = filled_data.resample('D').agg({'Global_active_power': np.mean, 'Global_reactive_power': np.mean, 'Voltage': np.mean,\n",
    "                                'Global_intensity': np.mean, 'Sub_metering_1': np.sum, 'Sub_metering_2': np.sum,\n",
    "                                'Sub_metering_3': np.sum, 'Global_apparent_power': np.mean,\n",
    "                                'Sub_metering_remainder': np.sum})\n",
    "print(daily_data.shape)\n",
    "daily_data.head()"
   ]
  },
  {
   "cell_type": "code",
   "execution_count": 57,
   "metadata": {},
   "outputs": [
    {
     "name": "stdout",
     "output_type": "stream",
     "text": [
      "(1442, 11)\n"
     ]
    },
    {
     "data": {
      "text/html": [
       "<div>\n",
       "<style scoped>\n",
       "    .dataframe tbody tr th:only-of-type {\n",
       "        vertical-align: middle;\n",
       "    }\n",
       "\n",
       "    .dataframe tbody tr th {\n",
       "        vertical-align: top;\n",
       "    }\n",
       "\n",
       "    .dataframe thead th {\n",
       "        text-align: right;\n",
       "    }\n",
       "</style>\n",
       "<table border=\"1\" class=\"dataframe\">\n",
       "  <thead>\n",
       "    <tr style=\"text-align: right;\">\n",
       "      <th></th>\n",
       "      <th>Date_Time</th>\n",
       "      <th>Global_active_power</th>\n",
       "      <th>Global_reactive_power</th>\n",
       "      <th>Voltage</th>\n",
       "      <th>Global_intensity</th>\n",
       "      <th>Sub_metering_1</th>\n",
       "      <th>Sub_metering_2</th>\n",
       "      <th>Sub_metering_3</th>\n",
       "      <th>Global_apparent_power</th>\n",
       "      <th>Sub_metering_remainder</th>\n",
       "      <th>temp</th>\n",
       "    </tr>\n",
       "  </thead>\n",
       "  <tbody>\n",
       "    <tr>\n",
       "      <th>0</th>\n",
       "      <td>2006-12-16</td>\n",
       "      <td>3.053475</td>\n",
       "      <td>0.088187</td>\n",
       "      <td>236.243763</td>\n",
       "      <td>13.082828</td>\n",
       "      <td>0.0</td>\n",
       "      <td>546.0</td>\n",
       "      <td>4926.0</td>\n",
       "      <td>3.056187</td>\n",
       "      <td>14680.933333</td>\n",
       "      <td>40.8</td>\n",
       "    </tr>\n",
       "    <tr>\n",
       "      <th>1</th>\n",
       "      <td>2006-12-17</td>\n",
       "      <td>2.354486</td>\n",
       "      <td>0.156949</td>\n",
       "      <td>240.087028</td>\n",
       "      <td>9.999028</td>\n",
       "      <td>2033.0</td>\n",
       "      <td>4187.0</td>\n",
       "      <td>13341.0</td>\n",
       "      <td>2.365602</td>\n",
       "      <td>36946.666667</td>\n",
       "      <td>37.7</td>\n",
       "    </tr>\n",
       "    <tr>\n",
       "      <th>2</th>\n",
       "      <td>2006-12-18</td>\n",
       "      <td>1.530435</td>\n",
       "      <td>0.112356</td>\n",
       "      <td>241.231694</td>\n",
       "      <td>6.421667</td>\n",
       "      <td>1063.0</td>\n",
       "      <td>2621.0</td>\n",
       "      <td>14018.0</td>\n",
       "      <td>1.543069</td>\n",
       "      <td>19028.433333</td>\n",
       "      <td>38.3</td>\n",
       "    </tr>\n",
       "    <tr>\n",
       "      <th>3</th>\n",
       "      <td>2006-12-19</td>\n",
       "      <td>1.157079</td>\n",
       "      <td>0.104821</td>\n",
       "      <td>241.999313</td>\n",
       "      <td>4.926389</td>\n",
       "      <td>839.0</td>\n",
       "      <td>7602.0</td>\n",
       "      <td>6197.0</td>\n",
       "      <td>1.170682</td>\n",
       "      <td>13131.900000</td>\n",
       "      <td>35.7</td>\n",
       "    </tr>\n",
       "    <tr>\n",
       "      <th>4</th>\n",
       "      <td>2006-12-20</td>\n",
       "      <td>1.545658</td>\n",
       "      <td>0.111804</td>\n",
       "      <td>242.308063</td>\n",
       "      <td>6.467361</td>\n",
       "      <td>0.0</td>\n",
       "      <td>2648.0</td>\n",
       "      <td>14063.0</td>\n",
       "      <td>1.556785</td>\n",
       "      <td>20384.800000</td>\n",
       "      <td>36.4</td>\n",
       "    </tr>\n",
       "  </tbody>\n",
       "</table>\n",
       "</div>"
      ],
      "text/plain": [
       "   Date_Time  Global_active_power  Global_reactive_power     Voltage  \\\n",
       "0 2006-12-16             3.053475               0.088187  236.243763   \n",
       "1 2006-12-17             2.354486               0.156949  240.087028   \n",
       "2 2006-12-18             1.530435               0.112356  241.231694   \n",
       "3 2006-12-19             1.157079               0.104821  241.999313   \n",
       "4 2006-12-20             1.545658               0.111804  242.308063   \n",
       "\n",
       "   Global_intensity  Sub_metering_1  Sub_metering_2  Sub_metering_3  \\\n",
       "0         13.082828             0.0           546.0          4926.0   \n",
       "1          9.999028          2033.0          4187.0         13341.0   \n",
       "2          6.421667          1063.0          2621.0         14018.0   \n",
       "3          4.926389           839.0          7602.0          6197.0   \n",
       "4          6.467361             0.0          2648.0         14063.0   \n",
       "\n",
       "   Global_apparent_power  Sub_metering_remainder  temp  \n",
       "0               3.056187            14680.933333  40.8  \n",
       "1               2.365602            36946.666667  37.7  \n",
       "2               1.543069            19028.433333  38.3  \n",
       "3               1.170682            13131.900000  35.7  \n",
       "4               1.556785            20384.800000  36.4  "
      ]
     },
     "execution_count": 57,
     "metadata": {},
     "output_type": "execute_result"
    }
   ],
   "source": [
    "merged_daily = pd.merge(daily_data, temps, on=\"Date_Time\")\n",
    "print(merged_daily.shape)\n",
    "merged_daily.head()"
   ]
  },
  {
   "cell_type": "markdown",
   "metadata": {},
   "source": [
    "# Here we can see that the temperature data from all of 2006 to 2010 in Paris, France has been merged onto the daily electrical data. It has been merged in such a way to only take the subset of the temperature data that matches to the existing dates on the electrical data"
   ]
  },
  {
   "cell_type": "code",
   "execution_count": 152,
   "metadata": {},
   "outputs": [
    {
     "data": {
      "image/png": "[encoded data removed]",
      "text/plain": [
       "<Figure size 432x288 with 1 Axes>"
      ]
     },
     "metadata": {
      "needs_background": "light"
     },
     "output_type": "display_data"
    },
    {
     "name": "stdout",
     "output_type": "stream",
     "text": [
      "Correlation: -0.5238323593773616\n"
     ]
    }
   ],
   "source": [
    "power_temp_corr = merged_daily['Global_apparent_power'].corr(merged_daily['temp'])\n",
    "plt.plot(merged_daily['Date_Time'], merged_daily['Global_apparent_power']*30)\n",
    "plt.plot(merged_daily['Date_Time'], merged_daily['temp'])\n",
    "plt.show()\n",
    "print(\"Correlation: \" + str(power_temp_corr))"
   ]
  },
  {
   "cell_type": "markdown",
   "metadata": {},
   "source": [
    "# Here we can see that the temperature data is inversely correlated to power usage. As the weather gets very cold, people use more electricity; and as the weather gets nice, people use less electricity."
   ]
  },
  {
   "cell_type": "markdown",
   "metadata": {},
   "source": [
    "# Expanding on this idea, it is possible to develop a timeseries regession analysis to predict power usage based on weather predictions. For predicting timeseries, it is usually valuable to introduce delayed terms for leveraging trends over time. "
   ]
  },
  {
   "cell_type": "code",
   "execution_count": 145,
   "metadata": {},
   "outputs": [
    {
     "data": {
      "text/html": [
       "<div>\n",
       "<style scoped>\n",
       "    .dataframe tbody tr th:only-of-type {\n",
       "        vertical-align: middle;\n",
       "    }\n",
       "\n",
       "    .dataframe tbody tr th {\n",
       "        vertical-align: top;\n",
       "    }\n",
       "\n",
       "    .dataframe thead th {\n",
       "        text-align: right;\n",
       "    }\n",
       "</style>\n",
       "<table border=\"1\" class=\"dataframe\">\n",
       "  <thead>\n",
       "    <tr style=\"text-align: right;\">\n",
       "      <th></th>\n",
       "      <th>Date_Time</th>\n",
       "      <th>Global_apparent_power</th>\n",
       "      <th>temp</th>\n",
       "      <th>Yesterday_Power</th>\n",
       "      <th>Yesterday-1_Power</th>\n",
       "      <th>Yesterday-2_Power</th>\n",
       "      <th>Yesterday-3_Power</th>\n",
       "      <th>Last_Week_Power</th>\n",
       "      <th>Yesterday_Temp</th>\n",
       "      <th>Yesterday-1_Temp</th>\n",
       "      <th>Yesterday-2_Temp</th>\n",
       "      <th>Yesterday-3_Temp</th>\n",
       "      <th>Last_Week_Temp</th>\n",
       "    </tr>\n",
       "  </thead>\n",
       "  <tbody>\n",
       "    <tr>\n",
       "      <th>7</th>\n",
       "      <td>2006-12-23</td>\n",
       "      <td>3.321892</td>\n",
       "      <td>35.4</td>\n",
       "      <td>1.641648</td>\n",
       "      <td>1.641648</td>\n",
       "      <td>1.203697</td>\n",
       "      <td>1.556785</td>\n",
       "      <td>3.056187</td>\n",
       "      <td>39.8</td>\n",
       "      <td>39.8</td>\n",
       "      <td>39.6</td>\n",
       "      <td>36.4</td>\n",
       "      <td>40.8</td>\n",
       "    </tr>\n",
       "    <tr>\n",
       "      <th>8</th>\n",
       "      <td>2006-12-24</td>\n",
       "      <td>1.779190</td>\n",
       "      <td>34.8</td>\n",
       "      <td>3.321892</td>\n",
       "      <td>3.321892</td>\n",
       "      <td>1.641648</td>\n",
       "      <td>1.203697</td>\n",
       "      <td>2.365602</td>\n",
       "      <td>35.4</td>\n",
       "      <td>35.4</td>\n",
       "      <td>39.8</td>\n",
       "      <td>39.6</td>\n",
       "      <td>37.7</td>\n",
       "    </tr>\n",
       "    <tr>\n",
       "      <th>9</th>\n",
       "      <td>2006-12-25</td>\n",
       "      <td>1.918893</td>\n",
       "      <td>33.0</td>\n",
       "      <td>1.779190</td>\n",
       "      <td>1.779190</td>\n",
       "      <td>3.321892</td>\n",
       "      <td>1.641648</td>\n",
       "      <td>1.543069</td>\n",
       "      <td>34.8</td>\n",
       "      <td>34.8</td>\n",
       "      <td>35.4</td>\n",
       "      <td>39.8</td>\n",
       "      <td>38.3</td>\n",
       "    </tr>\n",
       "    <tr>\n",
       "      <th>10</th>\n",
       "      <td>2006-12-26</td>\n",
       "      <td>2.736680</td>\n",
       "      <td>30.7</td>\n",
       "      <td>1.918893</td>\n",
       "      <td>1.918893</td>\n",
       "      <td>1.779190</td>\n",
       "      <td>3.321892</td>\n",
       "      <td>1.170682</td>\n",
       "      <td>33.0</td>\n",
       "      <td>33.0</td>\n",
       "      <td>34.8</td>\n",
       "      <td>35.4</td>\n",
       "      <td>35.7</td>\n",
       "    </tr>\n",
       "    <tr>\n",
       "      <th>11</th>\n",
       "      <td>2006-12-27</td>\n",
       "      <td>1.080604</td>\n",
       "      <td>31.0</td>\n",
       "      <td>2.736680</td>\n",
       "      <td>2.736680</td>\n",
       "      <td>1.918893</td>\n",
       "      <td>1.779190</td>\n",
       "      <td>1.556785</td>\n",
       "      <td>30.7</td>\n",
       "      <td>30.7</td>\n",
       "      <td>33.0</td>\n",
       "      <td>34.8</td>\n",
       "      <td>36.4</td>\n",
       "    </tr>\n",
       "  </tbody>\n",
       "</table>\n",
       "</div>"
      ],
      "text/plain": [
       "    Date_Time  Global_apparent_power  temp  Yesterday_Power  \\\n",
       "7  2006-12-23               3.321892  35.4         1.641648   \n",
       "8  2006-12-24               1.779190  34.8         3.321892   \n",
       "9  2006-12-25               1.918893  33.0         1.779190   \n",
       "10 2006-12-26               2.736680  30.7         1.918893   \n",
       "11 2006-12-27               1.080604  31.0         2.736680   \n",
       "\n",
       "    Yesterday-1_Power  Yesterday-2_Power  Yesterday-3_Power  Last_Week_Power  \\\n",
       "7            1.641648           1.203697           1.556785         3.056187   \n",
       "8            3.321892           1.641648           1.203697         2.365602   \n",
       "9            1.779190           3.321892           1.641648         1.543069   \n",
       "10           1.918893           1.779190           3.321892         1.170682   \n",
       "11           2.736680           1.918893           1.779190         1.556785   \n",
       "\n",
       "    Yesterday_Temp  Yesterday-1_Temp  Yesterday-2_Temp  Yesterday-3_Temp  \\\n",
       "7             39.8              39.8              39.6              36.4   \n",
       "8             35.4              35.4              39.8              39.6   \n",
       "9             34.8              34.8              35.4              39.8   \n",
       "10            33.0              33.0              34.8              35.4   \n",
       "11            30.7              30.7              33.0              34.8   \n",
       "\n",
       "    Last_Week_Temp  \n",
       "7             40.8  \n",
       "8             37.7  \n",
       "9             38.3  \n",
       "10            35.7  \n",
       "11            36.4  "
      ]
     },
     "execution_count": 145,
     "metadata": {},
     "output_type": "execute_result"
    }
   ],
   "source": [
    "data_to_regress = pd.concat([merged_daily[\"Date_Time\"], merged_daily[\"Global_apparent_power\"], merged_daily[\"temp\"]], axis=1)\n",
    "data_to_regress.loc[:,'Yesterday_Power'] = data_to_regress.loc[:,\"Global_apparent_power\"].shift()\n",
    "data_to_regress.loc[:,'Yesterday-1_Power'] = data_to_regress.loc[:,\"Global_apparent_power\"].shift(1)\n",
    "data_to_regress.loc[:,'Yesterday-2_Power'] = data_to_regress.loc[:,\"Global_apparent_power\"].shift(2)\n",
    "data_to_regress.loc[:,'Yesterday-3_Power'] = data_to_regress.loc[:,\"Global_apparent_power\"].shift(3)\n",
    "data_to_regress.loc[:,'Last_Week_Power'] = data_to_regress.loc[:,\"Global_apparent_power\"].shift(7)\n",
    "\n",
    "data_to_regress.loc[:,'Yesterday_Temp'] = data_to_regress.loc[:,\"temp\"].shift()\n",
    "data_to_regress.loc[:,'Yesterday-1_Temp'] = data_to_regress.loc[:,\"temp\"].shift(1)\n",
    "data_to_regress.loc[:,'Yesterday-2_Temp'] = data_to_regress.loc[:,\"temp\"].shift(2)\n",
    "data_to_regress.loc[:,'Yesterday-3_Temp'] = data_to_regress.loc[:,\"temp\"].shift(3)\n",
    "data_to_regress.loc[:,'Last_Week_Temp'] = data_to_regress.loc[:,\"temp\"].shift(7)\n",
    "\n",
    "# dropping NAs\n",
    "data_to_regress = data_to_regress.dropna()\n",
    "data_to_regress.head()"
   ]
  },
  {
   "cell_type": "markdown",
   "metadata": {},
   "source": [
    "# For testing and training, we can test on the years 2006 to 2009 and test on the year 2010"
   ]
  },
  {
   "cell_type": "code",
   "execution_count": 146,
   "metadata": {},
   "outputs": [],
   "source": [
    "\n",
    "mask1 = data_to_regress[\"Date_Time\"] < np.datetime64('2010-01-01')\n",
    "mask2 = data_to_regress[\"Date_Time\"] >= np.datetime64('2010-01-01')\n",
    "\n",
    "X_train = data_to_regress[mask1].drop(['Global_apparent_power'], axis = 1).drop(['Date_Time'], axis = 1)\n",
    "y_train = data_to_regress[mask1]['Global_apparent_power']\n",
    "\n",
    "X_test = data_to_regress[mask2].drop(['Global_apparent_power'], axis = 1).drop(['Date_Time'], axis = 1)\n",
    "y_test = data_to_regress[mask2]['Global_apparent_power']\n"
   ]
  },
  {
   "cell_type": "code",
   "execution_count": 147,
   "metadata": {},
   "outputs": [
    {
     "name": "stdout",
     "output_type": "stream",
     "text": [
      "LR: 0.419789 (0.163218)\n"
     ]
    },
    {
     "name": "stderr",
     "output_type": "stream",
     "text": [
      "C:\\AnacondaInstall\\lib\\site-packages\\sklearn\\neural_network\\_multilayer_perceptron.py:500: ConvergenceWarning: lbfgs failed to converge (status=1):\n",
      "STOP: TOTAL NO. of ITERATIONS REACHED LIMIT.\n",
      "\n",
      "Increase the number of iterations (max_iter) or scale the data as shown in:\n",
      "    https://scikit-learn.org/stable/modules/preprocessing.html\n",
      "  self.n_iter_ = _check_optimize_result(\"lbfgs\", opt_res, self.max_iter)\n",
      "C:\\AnacondaInstall\\lib\\site-packages\\sklearn\\neural_network\\_multilayer_perceptron.py:500: ConvergenceWarning: lbfgs failed to converge (status=1):\n",
      "STOP: TOTAL NO. of ITERATIONS REACHED LIMIT.\n",
      "\n",
      "Increase the number of iterations (max_iter) or scale the data as shown in:\n",
      "    https://scikit-learn.org/stable/modules/preprocessing.html\n",
      "  self.n_iter_ = _check_optimize_result(\"lbfgs\", opt_res, self.max_iter)\n",
      "C:\\AnacondaInstall\\lib\\site-packages\\sklearn\\neural_network\\_multilayer_perceptron.py:500: ConvergenceWarning: lbfgs failed to converge (status=1):\n",
      "STOP: TOTAL NO. of ITERATIONS REACHED LIMIT.\n",
      "\n",
      "Increase the number of iterations (max_iter) or scale the data as shown in:\n",
      "    https://scikit-learn.org/stable/modules/preprocessing.html\n",
      "  self.n_iter_ = _check_optimize_result(\"lbfgs\", opt_res, self.max_iter)\n",
      "C:\\AnacondaInstall\\lib\\site-packages\\sklearn\\neural_network\\_multilayer_perceptron.py:500: ConvergenceWarning: lbfgs failed to converge (status=1):\n",
      "STOP: TOTAL NO. of ITERATIONS REACHED LIMIT.\n",
      "\n",
      "Increase the number of iterations (max_iter) or scale the data as shown in:\n",
      "    https://scikit-learn.org/stable/modules/preprocessing.html\n",
      "  self.n_iter_ = _check_optimize_result(\"lbfgs\", opt_res, self.max_iter)\n"
     ]
    },
    {
     "name": "stdout",
     "output_type": "stream",
     "text": [
      "NN: 0.421937 (0.170302)\n",
      "KNN: 0.043625 (0.209645)\n",
      "RF: 0.233541 (0.172776)\n",
      "SVR: 0.009032 (0.106026)\n"
     ]
    },
    {
     "data": {
      "image/png": "[encoded data removed]",
      "text/plain": [
       "<Figure size 432x288 with 1 Axes>"
      ]
     },
     "metadata": {
      "needs_background": "light"
     },
     "output_type": "display_data"
    }
   ],
   "source": [
    "# code from: https://towardsdatascience.com/time-series-modeling-using-scikit-pandas-and-numpy-682e3b8db8d1\n",
    "\n",
    "from sklearn.model_selection import TimeSeriesSplit, cross_val_score\n",
    "from sklearn.linear_model import LinearRegression\n",
    "from sklearn.neural_network import MLPRegressor\n",
    "from sklearn.neighbors import KNeighborsRegressor\n",
    "from sklearn.ensemble import RandomForestRegressor\n",
    "from sklearn.svm import SVR\n",
    "import sklearn.metrics as metrics\n",
    "# Spot Check Algorithms\n",
    "models = []\n",
    "models.append(('LR', LinearRegression()))\n",
    "models.append(('NN', MLPRegressor(solver = 'lbfgs')))  #neural network\n",
    "models.append(('KNN', KNeighborsRegressor())) \n",
    "models.append(('RF', RandomForestRegressor(n_estimators = 10))) # Ensemble method - collection of many decision trees\n",
    "models.append(('SVR', SVR(gamma='auto'))) # kernel = linear\n",
    "# Evaluate each model in turn\n",
    "results = []\n",
    "names = []\n",
    "for name, model in models:\n",
    "    # TimeSeries Cross validation\n",
    " tscv = TimeSeriesSplit(n_splits=4)\n",
    "    \n",
    " cv_results = cross_val_score(model, X_train, y_train, cv=tscv, scoring='r2')\n",
    " results.append(cv_results)\n",
    " names.append(name)\n",
    " print('%s: %f (%f)' % (name, cv_results.mean(), cv_results.std()))\n",
    "    \n",
    "# Compare Algorithms\n",
    "plt.boxplot(results, labels=names)\n",
    "plt.title('Algorithm Comparison')\n",
    "plt.show()"
   ]
  },
  {
   "cell_type": "code",
   "execution_count": 148,
   "metadata": {},
   "outputs": [],
   "source": [
    "import sklearn.metrics as metrics\n",
    "def regression_results(y_true, y_pred):\n",
    "    # Regression metrics\n",
    "    explained_variance=metrics.explained_variance_score(y_true, y_pred)\n",
    "    mean_absolute_error=metrics.mean_absolute_error(y_true, y_pred) \n",
    "    mse=metrics.mean_squared_error(y_true, y_pred) \n",
    "    mean_squared_log_error=metrics.mean_squared_log_error(y_true, y_pred)\n",
    "    median_absolute_error=metrics.median_absolute_error(y_true, y_pred)\n",
    "    r2=metrics.r2_score(y_true, y_pred)\n",
    "    print('explained_variance: ', round(explained_variance,4))    \n",
    "    print('mean_squared_log_error: ', round(mean_squared_log_error,4))\n",
    "    print('r2: ', round(r2,4))\n",
    "    print('MAE: ', round(mean_absolute_error,4))\n",
    "    print('MSE: ', round(mse,4))\n",
    "    print('RMSE: ', round(np.sqrt(mse),4))\n"
   ]
  },
  {
   "cell_type": "code",
   "execution_count": 149,
   "metadata": {},
   "outputs": [],
   "source": [
    "from sklearn.model_selection import GridSearchCV\n",
    "model = RandomForestRegressor()\n",
    "param_search = { \n",
    "    'n_estimators': [20, 50, 100],\n",
    "    'max_features': ['auto', 'sqrt', 'log2'],\n",
    "    'max_depth' : [i for i in range(1,15)]\n",
    "}\n",
    "tscv = TimeSeriesSplit(n_splits=4)\n",
    "gsearch = GridSearchCV(estimator=model, cv=tscv, param_grid=param_search)\n",
    "gsearch.fit(X_train, y_train)\n",
    "best_score = gsearch.best_score_\n",
    "best_model = gsearch.best_estimator_"
   ]
  },
  {
   "cell_type": "code",
   "execution_count": 150,
   "metadata": {},
   "outputs": [
    {
     "name": "stdout",
     "output_type": "stream",
     "text": [
      "explained_variance:  0.4731\n",
      "mean_squared_log_error:  0.0143\n",
      "r2:  0.4701\n",
      "MAE:  0.189\n",
      "MSE:  0.0684\n",
      "RMSE:  0.2615\n"
     ]
    }
   ],
   "source": [
    "y_true = y_test.values\n",
    "y_pred = best_model.predict(X_test)\n",
    "regression_results(y_true, y_pred)"
   ]
  },
  {
   "cell_type": "markdown",
   "metadata": {},
   "source": [
    "# By tuning the hyperparameters in the Random Forest Regressor through a grid search algorithm we achieved a slightly better regession accuracy compared to using any of the default sklearn models."
   ]
  },
  {
   "cell_type": "code",
   "execution_count": 151,
   "metadata": {},
   "outputs": [
    {
     "data": {
      "image/png": "[encoded data removed]",
      "text/plain": [
       "<Figure size 432x288 with 1 Axes>"
      ]
     },
     "metadata": {
      "needs_background": "light"
     },
     "output_type": "display_data"
    }
   ],
   "source": [
    "imp = best_model.feature_importances_\n",
    "features = X_train.columns\n",
    "indices = np.argsort(imp)\n",
    "plt.title('Feature Importances')\n",
    "plt.barh(range(len(indices)), imp[indices], color='b', align='center')\n",
    "plt.yticks(range(len(indices)), [features[i] for i in indices])\n",
    "plt.xlabel('Relative Importance')\n",
    "plt.show()"
   ]
  }
 ],
 "metadata": {
  "kernelspec": {
   "display_name": "Python 3",
   "language": "python",
   "name": "python3"
  },
  "language_info": {
   "codemirror_mode": {
    "name": "ipython",
    "version": 3
   },
   "file_extension": ".py",
   "mimetype": "text/x-python",
   "name": "python",
   "nbconvert_exporter": "python",
   "pygments_lexer": "ipython3",
   "version": "3.8.3"
  }
 },
 "nbformat": 4,
 "nbformat_minor": 4
}
