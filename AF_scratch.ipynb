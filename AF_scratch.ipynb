{
 "cells": [
  {
   "cell_type": "code",
   "execution_count": 101,
   "id": "722f326f",
   "metadata": {},
   "outputs": [],
   "source": [
    "import pandas as pd\n",
    "import numpy as np\n",
    "import matplotlib.pyplot as plt"
   ]
  },
  {
   "cell_type": "code",
   "execution_count": 202,
   "id": "e0a612c5",
   "metadata": {},
   "outputs": [],
   "source": [
    "raw_data = pd.read_csv('household_power_consumption.txt', sep=';', na_values='?', index_col=0,\n",
    "                       parse_dates=[[0,1]], infer_datetime_format=True, dayfirst=True)"
   ]
  },
  {
   "cell_type": "code",
   "execution_count": 204,
   "id": "d22a2b2a",
   "metadata": {},
   "outputs": [
    {
     "name": "stdout",
     "output_type": "stream",
     "text": [
      "Column 0 has 25979 bad values.\n",
      "Column 1 has 25979 bad values.\n",
      "Column 2 has 25979 bad values.\n",
      "Column 3 has 25979 bad values.\n",
      "Column 4 has 25979 bad values.\n",
      "Column 5 has 25979 bad values.\n",
      "Column 6 has 25979 bad values.\n"
     ]
    }
   ],
   "source": [
    "for i in range(raw_data.shape[1]):\n",
    "    bad_cnt = raw_data.iloc[:, i].isnull().sum()\n",
    "    print('Column %d has %d bad values.' % (i, bad_cnt))"
   ]
  },
  {
   "cell_type": "code",
   "execution_count": 77,
   "id": "9a55bfcc",
   "metadata": {},
   "outputs": [
    {
     "name": "stdout",
     "output_type": "stream",
     "text": [
      "(2075259, 7)\n",
      "                     Global_active_power  Global_reactive_power  Voltage  \\\n",
      "Date_Time                                                                  \n",
      "2006-12-16 17:24:00                4.216                  0.418   234.84   \n",
      "2006-12-16 17:25:00                5.360                  0.436   233.63   \n",
      "2006-12-16 17:26:00                5.374                  0.498   233.29   \n",
      "2006-12-16 17:27:00                5.388                  0.502   233.74   \n",
      "2006-12-16 17:28:00                3.666                  0.528   235.68   \n",
      "...                                  ...                    ...      ...   \n",
      "2010-11-26 20:58:00                0.946                  0.000   240.43   \n",
      "2010-11-26 20:59:00                0.944                  0.000   240.00   \n",
      "2010-11-26 21:00:00                0.938                  0.000   239.82   \n",
      "2010-11-26 21:01:00                0.934                  0.000   239.70   \n",
      "2010-11-26 21:02:00                0.932                  0.000   239.55   \n",
      "\n",
      "                     Global_intensity  Sub_metering_1  Sub_metering_2  \\\n",
      "Date_Time                                                               \n",
      "2006-12-16 17:24:00              18.4             0.0             1.0   \n",
      "2006-12-16 17:25:00              23.0             0.0             1.0   \n",
      "2006-12-16 17:26:00              23.0             0.0             2.0   \n",
      "2006-12-16 17:27:00              23.0             0.0             1.0   \n",
      "2006-12-16 17:28:00              15.8             0.0             1.0   \n",
      "...                               ...             ...             ...   \n",
      "2010-11-26 20:58:00               4.0             0.0             0.0   \n",
      "2010-11-26 20:59:00               4.0             0.0             0.0   \n",
      "2010-11-26 21:00:00               3.8             0.0             0.0   \n",
      "2010-11-26 21:01:00               3.8             0.0             0.0   \n",
      "2010-11-26 21:02:00               3.8             0.0             0.0   \n",
      "\n",
      "                     Sub_metering_3  \n",
      "Date_Time                            \n",
      "2006-12-16 17:24:00            17.0  \n",
      "2006-12-16 17:25:00            16.0  \n",
      "2006-12-16 17:26:00            17.0  \n",
      "2006-12-16 17:27:00            17.0  \n",
      "2006-12-16 17:28:00            17.0  \n",
      "...                             ...  \n",
      "2010-11-26 20:58:00             0.0  \n",
      "2010-11-26 20:59:00             0.0  \n",
      "2010-11-26 21:00:00             0.0  \n",
      "2010-11-26 21:01:00             0.0  \n",
      "2010-11-26 21:02:00             0.0  \n",
      "\n",
      "[2075259 rows x 7 columns]\n"
     ]
    }
   ],
   "source": [
    "print(raw_data.shape)\n",
    "# print(raw_data.iloc[4,[2,3,6,7,8]])\n",
    "print(raw_data)"
   ]
  },
  {
   "cell_type": "code",
   "execution_count": null,
   "id": "c48ec0df",
   "metadata": {},
   "outputs": [],
   "source": [
    "# for i in range(raw_data.shape[0]):\n",
    "#     for k in range(2, raw_data.shape[1]):\n",
    "#         if (raw_data.iloc[i, k].isnull()):\n",
    "#             print('true')\n",
    "# print(raw_data)\n",
    "# print(raw_data.loc[raw_data['Global_active_power'].isnull()])\n",
    "print(type(raw_data.iloc[0]))\n",
    "# print(type(raw_data.il[0]))\n",
    "# if (raw_data.iloc[0].isnull()):\n",
    "#     print('is null')\n",
    "# print(raw_data.iloc[0].isnull())\n",
    "\n",
    "for col in range(raw_data.shape[1]):\n",
    "    count_nan = raw_data.iloc[:,col].isnull().sum()\n",
    "    last_val = raw_data.iloc[0, col]\n",
    "    for row in range(raw_data.shape[0]):\n",
    "#         if (pd.isnull(val)):\n",
    "#             print('found null')\n",
    "        idx = row + 1\n",
    "        while(pd.isnull(raw_data.iloc[row, col])):\n",
    "            temp = raw_data.iloc[idx, col]\n",
    "            if (not pd.isnull(temp)):\n",
    "                raw_data.iloc[row, col] = (last_val + temp) / 2\n",
    "            idx += 1\n",
    "        if (row == 0):\n",
    "            print('Out of while')\n",
    "            \n",
    "#     count_nan = 0\n",
    "    print('Column %s has %d missing values' % (raw_data.iloc[:,i].name, count_nan))\n",
    "\n",
    "# for i, v in enumerate(raw_data.iloc[0:10,1]):\n",
    "#     print('Index %d = %f' % (i, v))\n",
    "\n",
    "# print(raw_data.iloc[0, 1])\n",
    "# if (pd.isnull(raw_data.iloc[0, 1])):\n",
    "#     print('is nan')"
   ]
  },
  {
   "cell_type": "code",
   "execution_count": 130,
   "id": "ab654231",
   "metadata": {},
   "outputs": [
    {
     "ename": "KeyboardInterrupt",
     "evalue": "",
     "output_type": "error",
     "traceback": [
      "\u001b[1;31m---------------------------------------------------------------------------\u001b[0m",
      "\u001b[1;31mKeyboardInterrupt\u001b[0m                         Traceback (most recent call last)",
      "\u001b[1;32m<ipython-input-130-4d8d2ca933cb>\u001b[0m in \u001b[0;36m<module>\u001b[1;34m\u001b[0m\n\u001b[0;32m      8\u001b[0m             \u001b[1;31m# Find next good value\u001b[0m\u001b[1;33m\u001b[0m\u001b[1;33m\u001b[0m\u001b[1;33m\u001b[0m\u001b[0m\n\u001b[0;32m      9\u001b[0m             \u001b[0midx\u001b[0m \u001b[1;33m=\u001b[0m \u001b[0mrow\u001b[0m \u001b[1;33m+\u001b[0m \u001b[1;36m1\u001b[0m\u001b[1;33m\u001b[0m\u001b[1;33m\u001b[0m\u001b[0m\n\u001b[1;32m---> 10\u001b[1;33m             \u001b[1;32mwhile\u001b[0m \u001b[1;33m(\u001b[0m\u001b[0mpd\u001b[0m\u001b[1;33m.\u001b[0m\u001b[0misnull\u001b[0m\u001b[1;33m(\u001b[0m\u001b[0mraw_data\u001b[0m\u001b[1;33m[\u001b[0m\u001b[0mcol\u001b[0m\u001b[1;33m]\u001b[0m\u001b[1;33m.\u001b[0m\u001b[0miloc\u001b[0m\u001b[1;33m[\u001b[0m\u001b[0midx\u001b[0m\u001b[1;33m]\u001b[0m\u001b[1;33m)\u001b[0m\u001b[1;33m)\u001b[0m\u001b[1;33m:\u001b[0m\u001b[1;33m\u001b[0m\u001b[1;33m\u001b[0m\u001b[0m\n\u001b[0m\u001b[0;32m     11\u001b[0m                 \u001b[0midx\u001b[0m \u001b[1;33m=\u001b[0m \u001b[0midx\u001b[0m \u001b[1;33m+\u001b[0m \u001b[1;36m1\u001b[0m\u001b[1;33m\u001b[0m\u001b[1;33m\u001b[0m\u001b[0m\n\u001b[0;32m     12\u001b[0m \u001b[1;31m#             print('out of while')\u001b[0m\u001b[1;33m\u001b[0m\u001b[1;33m\u001b[0m\u001b[1;33m\u001b[0m\u001b[0m\n",
      "\u001b[1;31mKeyboardInterrupt\u001b[0m: "
     ]
    }
   ],
   "source": [
    "for col in raw_data.columns:\n",
    "#     print(col)\n",
    "    count_nan = 0\n",
    "#     count_nan = raw_data[col].isnull().sum()\n",
    "    last_val = raw_data[col].iloc[0]\n",
    "#     print(last_val)\n",
    "    for row, val in enumerate(raw_data[col]):\n",
    "#         if (pd.isnull(val)):\n",
    "#             # Find next good value\n",
    "#             idx = row + 1\n",
    "#             while (pd.isnull(raw_data[col].iloc[idx])):\n",
    "#                 idx = idx + 1\n",
    "# #             print('out of while')\n",
    "#             new_val = (last_val + raw_data[col].iloc[idx]) / 2\n",
    "#             raw_data[col].iloc[row] = new_val\n",
    "#         last_val = raw_data[col].iloc[row]\n",
    "# #     count_nan = 0\n",
    "    print('Column %s has %d missing values' % (raw_data[col].name, count_nan))\n",
    "    break\n"
   ]
  },
  {
   "cell_type": "code",
   "execution_count": 270,
   "id": "547df265",
   "metadata": {},
   "outputs": [
    {
     "name": "stdout",
     "output_type": "stream",
     "text": [
      "<class 'numpy.ndarray'>\n",
      "[False False False ... False False False]\n",
      "<class 'tuple'>\n",
      "[   6839    6840   19724 ... 1990187 1990188 2027411]\n",
      "25979\n",
      "25979\n",
      "nan\n",
      "[1990188 2027411]\n"
     ]
    }
   ],
   "source": [
    "foo = raw_data.iloc[:,0].isnull()\n",
    "print(type(foo.values))\n",
    "print(foo.values)\n",
    "bar = np.where(foo.values == True)\n",
    "print(type(bar))\n",
    "print(bar[0])\n",
    "print(len(bar[0]))\n",
    "print(raw_data.iloc[:,0].isnull().sum())\n",
    "print(raw_data.iloc[6839, 0])\n",
    "print(bar[0][-2:])"
   ]
  },
  {
   "cell_type": "raw",
   "id": "05bf8521",
   "metadata": {},
   "source": [
    "filled_data = raw_data.copy()\n",
    "\n",
    "for col in range(filled_data.shape[1]):\n",
    "    next_good = 0.0\n",
    "    last_good = 0.0\n",
    "    last_row = -2\n",
    "    \n",
    "    null_series = filled_data.iloc[:, col].isnull()\n",
    "    null_indices = np.where(null_series.values == True)[0].tolist()\n",
    "    print(null_indices[:6])\n",
    "    skip_cnt = 0\n",
    "    for i in range(len(null_indices)):\n",
    "        row = null_indices[i]\n",
    "        \n",
    "        if (last_row == row - 1):\n",
    "            new_val = (last_good + next_good) / 2\n",
    "            filled_data.iat[row, col] = new_val\n",
    "            last_good = new_val\n",
    "            continue\n",
    "            \n",
    "        if (i == len(null_indices) - 1):\n",
    "            # This is the last null value in the column. The next row is good.\n",
    "            filled_data.iat[row, col] = (filled_data.iat[row - 1, col] + filled_data.iat[row + 1, col]) / 2\n",
    "        else:\n",
    "            good_idx = 0\n",
    "            for k in range(i, len(null_indices)):\n",
    "                if (null_indices[k] != null_indices[k + 1] - 1):\n",
    "                    good_idx = k\n",
    "                    break\n",
    "                elif (k == len(null_indices) - 1):\n",
    "                    good_idx = k\n",
    "            next_good = filled_data.iat[null_indices[good_idx] + 1, col]\n",
    "            last_good = filled_data.iat[row - 1, col]\n",
    "            new_val = (last_good + next_good) / 2\n",
    "            filled_data.iat[row, col] = new_val\n",
    "            last_good = new_val\n",
    "            last_row = row\n",
    "                \n",
    "    print('Column %d cleaned' % col)"
   ]
  },
  {
   "cell_type": "code",
   "execution_count": 268,
   "id": "33ebe04a",
   "metadata": {},
   "outputs": [
    {
     "name": "stdout",
     "output_type": "stream",
     "text": [
      "<class 'list'>\n",
      "Column 0 cleaned\n"
     ]
    }
   ],
   "source": [
    "filled_data = raw_data.copy()\n",
    "\n",
    "for col in range(1):#filled_data.shape[1]):\n",
    "#     next_good = 0.0\n",
    "#     last_good = 0.0\n",
    "    last_row = -2\n",
    "    \n",
    "    null_series = filled_data.iloc[:, col].isnull()\n",
    "    null_indices = np.where(null_series.values == True)[0].tolist()\n",
    "    print(type(null_indices))\n",
    "    skip_cnt = 0\n",
    "    for i in range(len(null_indices)):\n",
    "        row = null_indices[i]\n",
    "        \n",
    "        if (last_row == row - 1):\n",
    "            new_val = (last_good + next_good) / 2\n",
    "            filled_data.iloc[row] = new_val\n",
    "            last_good = new_val\n",
    "            continue\n",
    "            \n",
    "        if (i == len(null_indices) - 1):\n",
    "            # This is the last null value in the column. The next row is good.\n",
    "            filled_data.iloc[row] = (filled_data.iloc[row - 1] + filled_data.iloc[row + 1]) / 2\n",
    "        else:\n",
    "            good_idx = 0\n",
    "            for k in range(i, len(null_indices)):\n",
    "                if (null_indices[k] != null_indices[k + 1] - 1):\n",
    "                    good_idx = k\n",
    "                    break\n",
    "                elif (k == len(null_indices) - 1):\n",
    "                    good_idx = k\n",
    "            next_good = filled_data.iloc[null_indices[good_idx] + 1]\n",
    "            last_good = filled_data.iloc[row - 1]\n",
    "            new_val = (last_good + next_good) / 2\n",
    "            filled_data.iloc[row] = new_val\n",
    "            last_good = new_val\n",
    "            last_row = row\n",
    "                \n",
    "    print('Column %d cleaned' % col)"
   ]
  },
  {
   "cell_type": "code",
   "execution_count": 277,
   "id": "99b0ae43",
   "metadata": {},
   "outputs": [
    {
     "name": "stdout",
     "output_type": "stream",
     "text": [
      "Global_active_power        0.244\n",
      "Global_reactive_power      0.000\n",
      "Voltage                  242.290\n",
      "Global_intensity           1.000\n",
      "Sub_metering_1             0.000\n",
      "Sub_metering_2             0.000\n",
      "Sub_metering_3             0.000\n",
      "Name: 2006-12-21 11:22:00, dtype: float64\n",
      "Global_active_power        0.245\n",
      "Global_reactive_power      0.000\n",
      "Voltage                  242.015\n",
      "Global_intensity           1.000\n",
      "Sub_metering_1             0.000\n",
      "Sub_metering_2             0.000\n",
      "Sub_metering_3             0.000\n",
      "Name: 2006-12-21 11:23:00, dtype: float64\n",
      "Global_active_power        0.2455\n",
      "Global_reactive_power      0.0000\n",
      "Voltage                  241.8775\n",
      "Global_intensity           1.0000\n",
      "Sub_metering_1             0.0000\n",
      "Sub_metering_2             0.0000\n",
      "Sub_metering_3             0.0000\n",
      "Name: 2006-12-21 11:24:00, dtype: float64\n",
      "Global_active_power        0.246\n",
      "Global_reactive_power      0.000\n",
      "Voltage                  241.740\n",
      "Global_intensity           1.000\n",
      "Sub_metering_1             0.000\n",
      "Sub_metering_2             0.000\n",
      "Sub_metering_3             0.000\n",
      "Name: 2006-12-21 11:25:00, dtype: float64\n"
     ]
    }
   ],
   "source": [
    "print(raw_data.iloc[6838])\n",
    "print(filled_data.iloc[6839])\n",
    "print(filled_data.iloc[6840])\n",
    "print(raw_data.iloc[6841])"
   ]
  },
  {
   "cell_type": "code",
   "execution_count": 281,
   "id": "15778317",
   "metadata": {},
   "outputs": [],
   "source": [
    "# Add apparent power column\n",
    "filled_data['Global_apparent_power'] = np.sqrt(filled_data['Global_active_power']**2 +\n",
    "                                              filled_data['Global_reactive_power']**2)"
   ]
  },
  {
   "cell_type": "code",
   "execution_count": 283,
   "id": "1d9fba82",
   "metadata": {},
   "outputs": [
    {
     "name": "stdout",
     "output_type": "stream",
     "text": [
      "Global_active_power        3.480000\n",
      "Global_reactive_power      0.066000\n",
      "Voltage                  235.970000\n",
      "Global_intensity          14.600000\n",
      "Sub_metering_1             0.000000\n",
      "Sub_metering_2             0.000000\n",
      "Sub_metering_3            18.000000\n",
      "Global_apparent_power      3.480626\n",
      "Name: 2006-12-17 10:04:00, dtype: float64\n"
     ]
    }
   ],
   "source": [
    "print(filled_data.iloc[1000])"
   ]
  },
  {
   "cell_type": "code",
   "execution_count": 280,
   "id": "9a736041",
   "metadata": {},
   "outputs": [
    {
     "name": "stdout",
     "output_type": "stream",
     "text": [
      "   a  b  c\n",
      "0  1  2  3\n",
      "1  4  5  6\n",
      "2  7  8  9\n",
      "   a  b  c        new\n",
      "0  1  2  3   2.236068\n",
      "1  4  5  6   6.403124\n",
      "2  7  8  9  10.630146\n"
     ]
    }
   ],
   "source": [
    "foo = pd.DataFrame([[1, 2, 3], [4, 5, 6], [7, 8, 9]], columns=['a', 'b', 'c'])\n",
    "# foo.set_index(['a', 'b', 'c'])\n",
    "print(foo)\n",
    "\n",
    "# print(foo.iloc[0])\n",
    "# print(foo.iloc[1])\n",
    "# print((foo.iloc[0] + foo.iloc[1])/2)\n",
    "# print(foo.iat[0])\n",
    "\n",
    "foo['new'] = np.sqrt(foo['a']**2 + foo['b']**2)\n",
    "print(foo)"
   ]
  },
  {
   "cell_type": "code",
   "execution_count": 247,
   "id": "da223cde",
   "metadata": {},
   "outputs": [
    {
     "name": "stdout",
     "output_type": "stream",
     "text": [
      "Column 0 has 0 bad values.\n",
      "Column 1 has 0 bad values.\n",
      "Column 2 has 0 bad values.\n",
      "Column 3 has 0 bad values.\n",
      "Column 4 has 0 bad values.\n",
      "Column 5 has 0 bad values.\n",
      "Column 6 has 0 bad values.\n",
      "nan\n",
      "0.245\n",
      "0.2455\n",
      "0.246\n"
     ]
    }
   ],
   "source": [
    "for i in range(filled_data.shape[1]):\n",
    "    bad_cnt = filled_data.iloc[:, i].isnull().sum()\n",
    "    print('Column %d has %d bad values.' % (i, bad_cnt))\n",
    "\n",
    "print(raw_data.iat[6839, 0])\n",
    "print(filled_data.iat[6839, 0])\n",
    "print(filled_data.iat[6840, 0])\n",
    "print(filled_data.iat[6841, 0])"
   ]
  },
  {
   "cell_type": "code",
   "execution_count": 138,
   "id": "0f61c5ba",
   "metadata": {},
   "outputs": [
    {
     "name": "stdout",
     "output_type": "stream",
     "text": [
      "is null\n",
      "5.36\n",
      "5.374\n",
      "5.388\n"
     ]
    }
   ],
   "source": [
    "for row, val in enumerate(raw_data.iloc[0:4,0]):\n",
    "    if (pd.isnull(val)):\n",
    "        print('is null')\n",
    "    else:\n",
    "        print(val)"
   ]
  },
  {
   "cell_type": "code",
   "execution_count": 99,
   "id": "7fa10dd6",
   "metadata": {},
   "outputs": [
    {
     "data": {
      "text/plain": [
       "<Figure size 2160x2160 with 0 Axes>"
      ]
     },
     "metadata": {},
     "output_type": "display_data"
    },
    {
     "data": {
      "image/png": "[encoded data removed]",
      "text/plain": [
       "<Figure size 432x288 with 1 Axes>"
      ]
     },
     "metadata": {
      "needs_background": "light"
     },
     "output_type": "display_data"
    }
   ],
   "source": [
    "plt.figure(figsize=(30,30))\n",
    "raw_data.iloc[0:100][['Global_active_power', 'Global_reactive_power']].plot()\n",
    "# raw_data.iloc[0:100]['Global_active_power'].plot()\n",
    "plt.show()"
   ]
  }
 ],
 "metadata": {
  "kernelspec": {
   "display_name": "Python 3",
   "language": "python",
   "name": "python3"
  },
  "language_info": {
   "codemirror_mode": {
    "name": "ipython",
    "version": 3
   },
   "file_extension": ".py",
   "mimetype": "text/x-python",
   "name": "python",
   "nbconvert_exporter": "python",
   "pygments_lexer": "ipython3",
   "version": "3.8.10"
  }
 },
 "nbformat": 4,
 "nbformat_minor": 5
}
