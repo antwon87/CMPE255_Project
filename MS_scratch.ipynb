{
 "cells": [
  {
   "cell_type": "code",
   "execution_count": 1,
   "metadata": {},
   "outputs": [],
   "source": [
    "import pandas as pd\n",
    "import numpy as np\n",
    "import matplotlib.pyplot as plt"
   ]
  },
  {
   "cell_type": "code",
   "execution_count": null,
   "metadata": {},
   "outputs": [],
   "source": [
    "raw_data = pd.read_csv('household_power_consumption.txt', sep=';', na_values='?', index_col=0,\n",
    "                       parse_dates=[[0,1]], infer_datetime_format=True, dayfirst=True)\n",
    "raw_data.dropna(inplace=True)\n",
    "raw_data"
   ]
  },
  {
   "cell_type": "code",
   "execution_count": null,
   "metadata": {},
   "outputs": [],
   "source": [
    "parsed_data=pd.DataFrame(columns=['year', 'month','day','hour','minute','Global_active_power'])\n",
    "parsed_data['year'] = raw_data.index.year\n",
    "parsed_data['month'] = raw_data.index.month\n",
    "parsed_data['day'] = raw_data.index.day\n",
    "parsed_data['hour'] = raw_data.index.hour\n",
    "parsed_data['minute'] = raw_data.index.minute\n",
    "parsed_data['Global_active_power'] = raw_data['Global_active_power'].to_numpy()\n",
    "print(parsed_data)"
   ]
  },
  {
   "cell_type": "code",
   "execution_count": null,
   "metadata": {},
   "outputs": [],
   "source": [
    "from sklearn.model_selection import train_test_split\n",
    "from sklearn.ensemble import RandomForestRegressor\n",
    "features = parsed_data.loc[:][['year']]\n",
    "labels = parsed_data.loc[:]['Global_active_power']\n",
    "train_features, test_features, train_labels, test_labels = train_test_split(features, labels, test_size = 0.25)\n",
    "rf = RandomForestRegressor()\n",
    "rf.fit(train_features, train_labels)\n",
    "predictions = rf.predict(test_features)\n",
    "errors = abs(predictions - test_labels)\n",
    "print('Mean Absolute Error:', round(np.mean(errors), 2))\n",
    "data=[0]*5\n",
    "ind=0\n",
    "for y in range(2006,2011):\n",
    "    data[ind]=rf.predict([[y]])\n",
    "    ind=ind+1\n",
    "plt.plot(data)\n",
    "plt.show()"
   ]
  },
  {
   "cell_type": "code",
   "execution_count": null,
   "metadata": {},
   "outputs": [],
   "source": [
    "features = parsed_data.loc[:][['month']]\n",
    "labels = parsed_data.loc[:]['Global_active_power']\n",
    "train_features, test_features, train_labels, test_labels = train_test_split(features, labels, test_size = 0.25)\n",
    "rf = RandomForestRegressor()\n",
    "rf.fit(train_features, train_labels)\n",
    "predictions = rf.predict(test_features)\n",
    "errors = abs(predictions - test_labels)\n",
    "print('Mean Absolute Error:', round(np.mean(errors), 2))\n",
    "data=[0]*12\n",
    "ind=0\n",
    "for m in range(1,13):\n",
    "    data[ind]=rf.predict([[m]])\n",
    "    ind=ind+1\n",
    "plt.plot(data)\n",
    "plt.show()"
   ]
  },
  {
   "cell_type": "code",
   "execution_count": null,
   "metadata": {},
   "outputs": [],
   "source": [
    "features = parsed_data.loc[:][['day']]\n",
    "labels = parsed_data.loc[:]['Global_active_power']\n",
    "train_features, test_features, train_labels, test_labels = train_test_split(features, labels, test_size = 0.25)\n",
    "rf = RandomForestRegressor()\n",
    "rf.fit(train_features, train_labels)\n",
    "predictions = rf.predict(test_features)\n",
    "errors = abs(predictions - test_labels)\n",
    "print('Mean Absolute Error:', round(np.mean(errors), 2))\n",
    "data=[0]*30\n",
    "ind=0\n",
    "for d in range(1,31):\n",
    "    data[ind]=rf.predict([[d]])\n",
    "    ind=ind+1\n",
    "plt.plot(data)\n",
    "plt.show()"
   ]
  },
  {
   "cell_type": "code",
   "execution_count": null,
   "metadata": {},
   "outputs": [],
   "source": [
    "features = parsed_data.loc[:][['hour']]\n",
    "labels = parsed_data.loc[:]['Global_active_power']\n",
    "train_features, test_features, train_labels, test_labels = train_test_split(features, labels, test_size = 0.25)\n",
    "rf = RandomForestRegressor()\n",
    "rf.fit(train_features, train_labels)\n",
    "predictions = rf.predict(test_features)\n",
    "errors = abs(predictions - test_labels)\n",
    "print('Mean Absolute Error:', round(np.mean(errors), 2))\n",
    "data=[0]*24\n",
    "ind=0\n",
    "for h in range(24):\n",
    "    data[ind]=rf.predict([[h]])\n",
    "    ind=ind+1\n",
    "plt.plot(data)\n",
    "plt.show()"
   ]
  },
  {
   "cell_type": "code",
   "execution_count": null,
   "metadata": {},
   "outputs": [],
   "source": [
    "features = parsed_data.loc[:][['minute']]\n",
    "labels = parsed_data.loc[:]['Global_active_power']\n",
    "train_features, test_features, train_labels, test_labels = train_test_split(features, labels, test_size = 0.25)\n",
    "rf = RandomForestRegressor()\n",
    "rf.fit(train_features, train_labels)\n",
    "predictions = rf.predict(test_features)\n",
    "errors = abs(predictions - test_labels)\n",
    "print('Mean Absolute Error:', round(np.mean(errors), 2))\n",
    "data=[0]*60\n",
    "ind=0\n",
    "for mi in range(60):\n",
    "    data[ind]=rf.predict([[mi]])\n",
    "    ind=ind+1\n",
    "plt.plot(data)\n",
    "plt.show()"
   ]
  },
  {
   "cell_type": "code",
   "execution_count": null,
   "metadata": {},
   "outputs": [],
   "source": [
    "features = parsed_data.loc[:][['month','hour']]\n",
    "labels = parsed_data.loc[:]['Global_active_power']\n",
    "train_features, test_features, train_labels, test_labels = train_test_split(features, labels, test_size = 0.25)\n",
    "rf = RandomForestRegressor()\n",
    "rf.fit(train_features, train_labels)\n",
    "predictions = rf.predict(test_features)\n",
    "errors = abs(predictions - test_labels)\n",
    "print('Mean Absolute Error:', round(np.mean(errors), 2))\n",
    "data=[0]*12*24\n",
    "ind=0\n",
    "for m in range(1,13):\n",
    "    for h in range(24):\n",
    "        data[ind]=rf.predict([[m,h]])\n",
    "        ind=ind+1\n",
    "plt.plot(data)\n",
    "plt.show()"
   ]
  },
  {
   "cell_type": "code",
   "execution_count": null,
   "metadata": {},
   "outputs": [],
   "source": []
  }
 ],
 "metadata": {
  "kernelspec": {
   "display_name": "Python 3",
   "language": "python",
   "name": "python3"
  },
  "language_info": {
   "codemirror_mode": {
    "name": "ipython",
    "version": 3
   },
   "file_extension": ".py",
   "mimetype": "text/x-python",
   "name": "python",
   "nbconvert_exporter": "python",
   "pygments_lexer": "ipython3",
   "version": "3.8.3"
  }
 },
 "nbformat": 4,
 "nbformat_minor": 4
}
