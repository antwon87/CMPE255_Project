{
 "cells": [
  {
   "cell_type": "code",
   "execution_count": 2,
   "id": "9e7e6b8b",
   "metadata": {},
   "outputs": [],
   "source": [
    "import pandas as pd\n",
    "import numpy as np\n",
    "import matplotlib.pyplot as plt"
   ]
  },
  {
   "cell_type": "markdown",
   "id": "d503f370",
   "metadata": {},
   "source": [
    "### Read in Data Set"
   ]
  },
  {
   "cell_type": "code",
   "execution_count": 3,
   "id": "392903f4",
   "metadata": {},
   "outputs": [],
   "source": [
    "raw_data = pd.read_csv('household_power_consumption.txt', sep=';', na_values='?', index_col=0,\n",
    "                       parse_dates=[[0,1]], infer_datetime_format=True, dayfirst=True)"
   ]
  },
  {
   "cell_type": "code",
   "execution_count": 4,
   "id": "fc7122a9",
   "metadata": {},
   "outputs": [
    {
     "name": "stdout",
     "output_type": "stream",
     "text": [
      "Column 0 has 25979 bad values.\n",
      "Column 1 has 25979 bad values.\n",
      "Column 2 has 25979 bad values.\n",
      "Column 3 has 25979 bad values.\n",
      "Column 4 has 25979 bad values.\n",
      "Column 5 has 25979 bad values.\n",
      "Column 6 has 25979 bad values.\n"
     ]
    }
   ],
   "source": [
    "for i in range(raw_data.shape[1]):\n",
    "    bad_cnt = raw_data.iloc[:, i].isnull().sum()\n",
    "    print('Column %d has %d bad values.' % (i, bad_cnt))"
   ]
  },
  {
   "cell_type": "code",
   "execution_count": 285,
   "id": "c4ce9405",
   "metadata": {},
   "outputs": [
    {
     "name": "stdout",
     "output_type": "stream",
     "text": [
      "(2075259, 7)\n"
     ]
    }
   ],
   "source": [
    "print(raw_data.shape)\n",
    "# print(raw_data.iloc[4,[2,3,6,7,8]])\n",
    "# print(raw_data.head)"
   ]
  },
  {
   "cell_type": "markdown",
   "id": "2a2c18d1",
   "metadata": {},
   "source": [
    "### Fill missing data with average curve\n",
    "This method of filling the data will replace each missing value with the average of the last good value and the next good value. If there are multiple missing values, the last good value will be updated as each value is filled in. For example, if the series of data is [0, ?, ?, 4], the filled in set will be [0, 2, 3, 4].  \n",
    "I think this is a reasonable way to fill in power data since power is continuous and can't change value instantaneously. It might be problematic for the regions where there are many values (multiple days worth) missing, though."
   ]
  },
  {
   "cell_type": "code",
   "execution_count": 7,
   "id": "d19f415c",
   "metadata": {},
   "outputs": [
    {
     "name": "stdout",
     "output_type": "stream",
     "text": [
      "<class 'list'>\n",
      "Column 0 cleaned\n"
     ]
    }
   ],
   "source": [
    "filled_data = raw_data.copy()\n",
    "\n",
    "for col in range(1):#filled_data.shape[1]):\n",
    "    last_row = -2\n",
    "    \n",
    "    null_series = filled_data.iloc[:, col].isnull()\n",
    "    null_indices = np.where(null_series.values == True)[0].tolist()\n",
    "    print(type(null_indices))\n",
    "    skip_cnt = 0\n",
    "    for i in range(len(null_indices)):\n",
    "        row = null_indices[i]\n",
    "        \n",
    "        if (last_row == row - 1):\n",
    "            new_val = (last_good + next_good) / 2\n",
    "            filled_data.iloc[row] = new_val\n",
    "            last_good = new_val\n",
    "            continue\n",
    "            \n",
    "        if (i == len(null_indices) - 1):\n",
    "            # This is the last null value in the column. The next row is good.\n",
    "            filled_data.iloc[row] = (filled_data.iloc[row - 1] + filled_data.iloc[row + 1]) / 2\n",
    "        else:\n",
    "            good_idx = 0\n",
    "            for k in range(i, len(null_indices)):\n",
    "                if (null_indices[k] != null_indices[k + 1] - 1):\n",
    "                    good_idx = k\n",
    "                    break\n",
    "                elif (k == len(null_indices) - 1):\n",
    "                    good_idx = k\n",
    "            next_good = filled_data.iloc[null_indices[good_idx] + 1]\n",
    "            last_good = filled_data.iloc[row - 1]\n",
    "            new_val = (last_good + next_good) / 2\n",
    "            filled_data.iloc[row] = new_val\n",
    "            last_good = new_val\n",
    "            last_row = row\n",
    "                \n",
    "    print('Column %d cleaned' % col)"
   ]
  },
  {
   "cell_type": "raw",
   "id": "851174c5",
   "metadata": {},
   "source": [
    "# Check a few missing value locations to verify the fill worked correctly\n",
    "print(raw_data.iloc[6838])\n",
    "print(filled_data.iloc[6839])\n",
    "print(filled_data.iloc[6840])\n",
    "print(raw_data.iloc[6841])"
   ]
  },
  {
   "cell_type": "markdown",
   "id": "4b227bc7",
   "metadata": {},
   "source": [
    "### Add a new column for apparent power\n",
    "If I remember my power systems courses correctly, the power utility needs to consider apparent power, which is a combination of both active and reactive power. This next bit of code will calculate the apparent power and add it as a new column. This column will be useful if we want to do analysis related to how much power the utility needs to generate."
   ]
  },
  {
   "cell_type": "code",
   "execution_count": 9,
   "id": "4bbe5148",
   "metadata": {},
   "outputs": [],
   "source": [
    "# Add apparent power column\n",
    "filled_data['Global_apparent_power'] = np.sqrt(filled_data['Global_active_power']**2 +\n",
    "                                              filled_data['Global_reactive_power']**2)"
   ]
  },
  {
   "cell_type": "markdown",
   "id": "99698e67",
   "metadata": {},
   "source": [
    "### Aggregate data by hour/day/season rather than by minute"
   ]
  },
  {
   "cell_type": "code",
   "execution_count": null,
   "id": "b635787f",
   "metadata": {},
   "outputs": [],
   "source": []
  }
 ],
 "metadata": {
  "kernelspec": {
   "display_name": "Python 3",
   "language": "python",
   "name": "python3"
  },
  "language_info": {
   "codemirror_mode": {
    "name": "ipython",
    "version": 3
   },
   "file_extension": ".py",
   "mimetype": "text/x-python",
   "name": "python",
   "nbconvert_exporter": "python",
   "pygments_lexer": "ipython3",
   "version": "3.8.10"
  }
 },
 "nbformat": 4,
 "nbformat_minor": 5
}
